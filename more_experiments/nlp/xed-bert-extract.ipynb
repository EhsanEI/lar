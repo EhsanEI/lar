{
 "cells": [
  {
   "cell_type": "code",
   "execution_count": 1,
   "metadata": {},
   "outputs": [],
   "source": [
    "import numpy as np\n",
    "import pandas as pd\n",
    "import io"
   ]
  },
  {
   "cell_type": "code",
   "execution_count": 17,
   "metadata": {},
   "outputs": [],
   "source": [
    "lang = 'hu'\n",
    "lowercase = False"
   ]
  },
  {
   "cell_type": "code",
   "execution_count": 18,
   "metadata": {},
   "outputs": [],
   "source": [
    "# corpus = pd.read_csv(f'XED/AnnotatedData/{lang}-annotated.tsv', sep='\\t', header=None)\n",
    "corpus = pd.read_csv(f'XED/Projections/{lang}-projections.tsv', sep='\\t', header=None)"
   ]
  },
  {
   "cell_type": "code",
   "execution_count": 19,
   "metadata": {},
   "outputs": [],
   "source": [
    "def tobinlabels(labels):\n",
    "    intlabels = [int(label) for label in labels.split(', ')]\n",
    "    positive = 0; negative = 0\n",
    "    if not set(intlabels).isdisjoint([1, 3, 4, 6]):\n",
    "        negative = 1\n",
    "    if not set(intlabels).isdisjoint([2, 5, 8]):\n",
    "        positive = 1\n",
    "    if positive and not negative:\n",
    "        return 1\n",
    "    elif negative and not positive:\n",
    "        return 0\n",
    "    else:\n",
    "        return -1"
   ]
  },
  {
   "cell_type": "code",
   "execution_count": 20,
   "metadata": {},
   "outputs": [
    {
     "data": {
      "text/html": [
       "<div>\n",
       "<style scoped>\n",
       "    .dataframe tbody tr th:only-of-type {\n",
       "        vertical-align: middle;\n",
       "    }\n",
       "\n",
       "    .dataframe tbody tr th {\n",
       "        vertical-align: top;\n",
       "    }\n",
       "\n",
       "    .dataframe thead th {\n",
       "        text-align: right;\n",
       "    }\n",
       "</style>\n",
       "<table border=\"1\" class=\"dataframe\">\n",
       "  <thead>\n",
       "    <tr style=\"text-align: right;\">\n",
       "      <th></th>\n",
       "      <th>0</th>\n",
       "      <th>1</th>\n",
       "    </tr>\n",
       "  </thead>\n",
       "  <tbody>\n",
       "    <tr>\n",
       "      <th>0</th>\n",
       "      <td>Mi történt veled?</td>\n",
       "      <td>4, 7</td>\n",
       "    </tr>\n",
       "    <tr>\n",
       "      <th>1</th>\n",
       "      <td>Az üzlet kifújt.</td>\n",
       "      <td>6</td>\n",
       "    </tr>\n",
       "    <tr>\n",
       "      <th>2</th>\n",
       "      <td>Ha nem lenne vérdíj a fejünkön, nem itt lennénk.</td>\n",
       "      <td>4</td>\n",
       "    </tr>\n",
       "    <tr>\n",
       "      <th>3</th>\n",
       "      <td>Igyunk a régi időkre.</td>\n",
       "      <td>2, 5</td>\n",
       "    </tr>\n",
       "    <tr>\n",
       "      <th>4</th>\n",
       "      <td>Úgyse jó semmire, Kid.</td>\n",
       "      <td>6</td>\n",
       "    </tr>\n",
       "  </tbody>\n",
       "</table>\n",
       "</div>"
      ],
      "text/plain": [
       "                                                  0     1\n",
       "0                                 Mi történt veled?  4, 7\n",
       "1                                  Az üzlet kifújt.     6\n",
       "2  Ha nem lenne vérdíj a fejünkön, nem itt lennénk.     4\n",
       "3                             Igyunk a régi időkre.  2, 5\n",
       "4                            Úgyse jó semmire, Kid.     6"
      ]
     },
     "execution_count": 20,
     "metadata": {},
     "output_type": "execute_result"
    }
   ],
   "source": [
    "corpus.head()"
   ]
  },
  {
   "cell_type": "code",
   "execution_count": 21,
   "metadata": {},
   "outputs": [],
   "source": [
    "for i, sentence in enumerate(corpus[0]):\n",
    "    try:\n",
    "        a = (\".xml.gz\" not in sentence )\n",
    "    except:\n",
    "        print(i, sentence)"
   ]
  },
  {
   "cell_type": "code",
   "execution_count": 22,
   "metadata": {
    "scrolled": true
   },
   "outputs": [],
   "source": [
    "# Pos/Neg labels\n",
    "corpus[1] = corpus[1].map(tobinlabels)\n",
    "corpus = corpus[corpus[1] >= 0]\n",
    "corpus = corpus.reset_index(drop=True)"
   ]
  },
  {
   "cell_type": "code",
   "execution_count": 23,
   "metadata": {},
   "outputs": [
    {
     "name": "stdout",
     "output_type": "stream",
     "text": [
      "(4821, 2)\n",
      "(4821, 2)\n"
     ]
    }
   ],
   "source": [
    "# Removing corrupted rows\n",
    "print(corpus.shape)\n",
    "not_corrupted = [\".xml.gz\" not in sentence for sentence in corpus[0]]\n",
    "corpus = corpus[not_corrupted]\n",
    "corpus = corpus.reset_index(drop=True)\n",
    "print(corpus.shape)"
   ]
  },
  {
   "cell_type": "code",
   "execution_count": 24,
   "metadata": {
    "scrolled": true
   },
   "outputs": [
    {
     "data": {
      "text/html": [
       "<div>\n",
       "<style scoped>\n",
       "    .dataframe tbody tr th:only-of-type {\n",
       "        vertical-align: middle;\n",
       "    }\n",
       "\n",
       "    .dataframe tbody tr th {\n",
       "        vertical-align: top;\n",
       "    }\n",
       "\n",
       "    .dataframe thead th {\n",
       "        text-align: right;\n",
       "    }\n",
       "</style>\n",
       "<table border=\"1\" class=\"dataframe\">\n",
       "  <thead>\n",
       "    <tr style=\"text-align: right;\">\n",
       "      <th></th>\n",
       "      <th>0</th>\n",
       "      <th>1</th>\n",
       "    </tr>\n",
       "  </thead>\n",
       "  <tbody>\n",
       "    <tr>\n",
       "      <th>0</th>\n",
       "      <td>Mi történt veled?</td>\n",
       "      <td>0</td>\n",
       "    </tr>\n",
       "    <tr>\n",
       "      <th>1</th>\n",
       "      <td>Az üzlet kifújt.</td>\n",
       "      <td>0</td>\n",
       "    </tr>\n",
       "    <tr>\n",
       "      <th>2</th>\n",
       "      <td>Ha nem lenne vérdíj a fejünkön, nem itt lennénk.</td>\n",
       "      <td>0</td>\n",
       "    </tr>\n",
       "    <tr>\n",
       "      <th>3</th>\n",
       "      <td>Igyunk a régi időkre.</td>\n",
       "      <td>1</td>\n",
       "    </tr>\n",
       "    <tr>\n",
       "      <th>4</th>\n",
       "      <td>Úgyse jó semmire, Kid.</td>\n",
       "      <td>0</td>\n",
       "    </tr>\n",
       "  </tbody>\n",
       "</table>\n",
       "</div>"
      ],
      "text/plain": [
       "                                                  0  1\n",
       "0                                 Mi történt veled?  0\n",
       "1                                  Az üzlet kifújt.  0\n",
       "2  Ha nem lenne vérdíj a fejünkön, nem itt lennénk.  0\n",
       "3                             Igyunk a régi időkre.  1\n",
       "4                            Úgyse jó semmire, Kid.  0"
      ]
     },
     "execution_count": 24,
     "metadata": {},
     "output_type": "execute_result"
    }
   ],
   "source": [
    "corpus.head()"
   ]
  },
  {
   "cell_type": "code",
   "execution_count": 25,
   "metadata": {},
   "outputs": [],
   "source": [
    "# bert tokenizer\n",
    "from transformers import AutoTokenizer, AutoModel, BertTokenizer, BertModel\n",
    "models = {\n",
    "    ('en', False): 'bert-base-cased',\n",
    "    ###\n",
    "    ('ar', False): 'asafaya/bert-base-arabic',\n",
    "    ('bg', False): 'anon-submission-mk/bert-base-macedonian-bulgarian-cased',\n",
    "    ('br', False): 'neuralmind/bert-base-portuguese-cased',\n",
    "    ('cn', False): 'bert-base-chinese',\n",
    "    ('da', True): 'Maltehb/danish-bert-botxo',\n",
    "    ('de', False): 'bert-base-german-cased',\n",
    "    ('es', False): 'dccuchile/bert-base-spanish-wwm-cased',\n",
    "    ('et', False): 'tartuNLP/EstBERT',\n",
    "    ('eu', False): 'ixa-ehu/berteus-base-cased',\n",
    "    ('fa', False): 'HooshvareLab/bert-base-parsbert-uncased',\n",
    "    ('fr', False): 'dbmdz/bert-base-french-europeana-cased',\n",
    "    ('gl', False): 'dvilares/bertinho-gl-base-cased',\n",
    "    ('he', False): 'avichr/heBERT',\n",
    "    ('hu', False): 'SZTAKI-HLT/hubert-base-cc',\n",
    "}\n",
    "# models = {\n",
    "#     \"english_base_cased\": ('bert-base-cased',False),\n",
    "#     \"english_large_cased\": ('bert-large-cased',False),\n",
    "#     \"english_base_uncased\": ('bert-base-uncased',True),\n",
    "#     \"english_large_uncased\": ('bert-large-uncased',True),\n",
    "#     \"finnish_cased\": ('TurkuNLP/bert-base-finnish-cased-v1',False),\n",
    "#     \"finnish_uncased\": ('TurkuNLP/bert-base-finnish-uncased-v1',False),\n",
    "#     \"dutch\": ('wietsedv/bert-base-dutch-cased',False),\n",
    "#     \"chinese\": ('bert-base-chinese',False),\n",
    "#     \"german\": ('bert-base-german-cased',False),\n",
    "#     \"arabic\": ('asafaya/bert-base-arabic',False),\n",
    "#     \"greek\": ('nlpaueb/bert-base-greek-uncased-v1',False),\n",
    "#     \"turkish\": ('dbmdz/bert-base-turkish-cased',False)\n",
    "# }\n",
    "bert_model_name = models[(lang, lowercase)]\n",
    "tokenizer = BertTokenizer.from_pretrained(bert_model_name, do_lower_case=lowercase)"
   ]
  },
  {
   "cell_type": "code",
   "execution_count": 26,
   "metadata": {},
   "outputs": [],
   "source": [
    "# for i in range(10):\n",
    "#     sentence = corpus[0][i]\n",
    "#     print(sentence, tokenizer.encode(sentence))\n",
    "#     print('------')"
   ]
  },
  {
   "cell_type": "code",
   "execution_count": 27,
   "metadata": {},
   "outputs": [
    {
     "name": "stdout",
     "output_type": "stream",
     "text": [
      "83 Mindennek a titokban tartása a tény, hogy bőven van választási lehetőségünk, hogy elérjük a csillagokat és barátságos szomszédainkat más civilizációkkal az információ, az erőforrások, a tudás, a spirituális betekintés és értékek megosztásában.\n"
     ]
    }
   ],
   "source": [
    "lens = []\n",
    "for sentence in corpus[0]:\n",
    "    lens.append(len(tokenizer.encode(sentence)))\n",
    "print(max(lens), corpus[0][np.argmax(lens)])"
   ]
  },
  {
   "cell_type": "code",
   "execution_count": 28,
   "metadata": {
    "scrolled": true
   },
   "outputs": [
    {
     "name": "stderr",
     "output_type": "stream",
     "text": [
      "Some weights of the model checkpoint at bert-base-multilingual-cased were not used when initializing BertModel: ['cls.predictions.transform.dense.bias', 'cls.seq_relationship.weight', 'cls.predictions.bias', 'cls.predictions.transform.dense.weight', 'cls.predictions.transform.LayerNorm.weight', 'cls.seq_relationship.bias', 'cls.predictions.transform.LayerNorm.bias', 'cls.predictions.decoder.weight']\n",
      "- This IS expected if you are initializing BertModel from the checkpoint of a model trained on another task or with another architecture (e.g. initializing a BertForSequenceClassification model from a BertForPreTraining model).\n",
      "- This IS NOT expected if you are initializing BertModel from the checkpoint of a model that you expect to be exactly identical (initializing a BertForSequenceClassification model from a BertForSequenceClassification model).\n"
     ]
    }
   ],
   "source": [
    "bert_model = BertModel.from_pretrained(bert_model_name)"
   ]
  },
  {
   "cell_type": "code",
   "execution_count": 29,
   "metadata": {
    "scrolled": true
   },
   "outputs": [
    {
     "name": "stdout",
     "output_type": "stream",
     "text": [
      "100/4821\n",
      "200/4821\n",
      "300/4821\n",
      "400/4821\n",
      "500/4821\n",
      "600/4821\n",
      "700/4821\n",
      "800/4821\n",
      "900/4821\n",
      "1000/4821\n",
      "1100/4821\n",
      "1200/4821\n",
      "1300/4821\n",
      "1400/4821\n",
      "1500/4821\n",
      "1600/4821\n",
      "1700/4821\n",
      "1800/4821\n",
      "1900/4821\n",
      "2000/4821\n",
      "2100/4821\n",
      "2200/4821\n",
      "2300/4821\n",
      "2400/4821\n",
      "2500/4821\n",
      "2600/4821\n",
      "2700/4821\n",
      "2800/4821\n",
      "2900/4821\n",
      "3000/4821\n",
      "3100/4821\n",
      "3200/4821\n",
      "3300/4821\n",
      "3400/4821\n",
      "3500/4821\n",
      "3600/4821\n",
      "3700/4821\n",
      "3800/4821\n",
      "3900/4821\n",
      "4000/4821\n",
      "4100/4821\n",
      "4200/4821\n",
      "4300/4821\n",
      "4400/4821\n",
      "4500/4821\n",
      "4600/4821\n",
      "4700/4821\n",
      "4800/4821\n"
     ]
    }
   ],
   "source": [
    "batch_size = 4\n",
    "ind = 0\n",
    "X = np.zeros((corpus.shape[0], 768))\n",
    "while ind < corpus.shape[0]:\n",
    "    encoding = tokenizer.batch_encode_plus(\n",
    "          corpus[0][ind:ind+batch_size],\n",
    "          add_special_tokens=True,\n",
    "          truncation=True,\n",
    "          max_length=100,\n",
    "          return_token_type_ids=False,\n",
    "          pad_to_max_length=True,\n",
    "          return_attention_mask=True,\n",
    "          return_tensors='pt',\n",
    "    )\n",
    "#     print(encoding['input_ids'].shape, encoding['attention_mask'].shape)\n",
    "    _, pooled_output = bert_model(\n",
    "      input_ids=encoding['input_ids'],\n",
    "      attention_mask=encoding['attention_mask'],\n",
    "      return_dict=False,\n",
    "    )\n",
    "    X[ind:ind+batch_size] = pooled_output.detach().cpu().numpy()\n",
    "    ind += batch_size\n",
    "    if ind % 100 == 0: \n",
    "        print(f\"{ind}/{corpus.shape[0]}\")"
   ]
  },
  {
   "cell_type": "code",
   "execution_count": 15,
   "metadata": {},
   "outputs": [
    {
     "name": "stdout",
     "output_type": "stream",
     "text": [
      "(3717, 768) (3717,) 0.4457896152811407 -0.9999971389770508 0.999997079372406 True\n"
     ]
    }
   ],
   "source": [
    "y = corpus[1].to_numpy()\n",
    "print(X.shape, y.shape, y.mean(), X.min(), X.max(), np.isfinite(X).all())"
   ]
  },
  {
   "cell_type": "markdown",
   "metadata": {},
   "source": [
    "### --------"
   ]
  },
  {
   "cell_type": "markdown",
   "metadata": {},
   "source": [
    "### Little test"
   ]
  },
  {
   "cell_type": "code",
   "execution_count": 16,
   "metadata": {},
   "outputs": [],
   "source": [
    "from sklearn.svm import LinearSVC\n",
    "from sklearn.model_selection import train_test_split\n",
    "from sklearn import metrics"
   ]
  },
  {
   "cell_type": "code",
   "execution_count": 17,
   "metadata": {},
   "outputs": [
    {
     "name": "stdout",
     "output_type": "stream",
     "text": [
      "(4567, 768) (1958, 768) (4567,) (1958,)\n"
     ]
    }
   ],
   "source": [
    "X_train, X_test, y_train, y_test = train_test_split(X, y, test_size=0.3,random_state=0)\n",
    "print(X_train.shape, X_test.shape, y_train.shape, y_test.shape)"
   ]
  },
  {
   "cell_type": "code",
   "execution_count": 18,
   "metadata": {
    "scrolled": true
   },
   "outputs": [
    {
     "name": "stdout",
     "output_type": "stream",
     "text": [
      "Accuracy: 0.6853932584269663\n",
      "f1: 0.6230110159118728\n"
     ]
    },
    {
     "name": "stderr",
     "output_type": "stream",
     "text": [
      "/home/ehsan/.local/lib/python3.6/site-packages/sklearn/svm/_base.py:977: ConvergenceWarning: Liblinear failed to converge, increase the number of iterations.\n",
      "  \"the number of iterations.\", ConvergenceWarning)\n"
     ]
    }
   ],
   "source": [
    "clf = LinearSVC()\n",
    "clf.fit(X_train, y_train)\n",
    "y_pred = clf.predict(X_test)\n",
    "print(\"Accuracy:\",metrics.accuracy_score(y_test, y_pred))\n",
    "print(\"f1:\",metrics.f1_score(y_test, y_pred))"
   ]
  },
  {
   "cell_type": "markdown",
   "metadata": {},
   "source": [
    "### --------"
   ]
  },
  {
   "cell_type": "code",
   "execution_count": 113,
   "metadata": {},
   "outputs": [],
   "source": [
    "u, s, vt = np.linalg.svd(X)"
   ]
  },
  {
   "cell_type": "code",
   "execution_count": 114,
   "metadata": {},
   "outputs": [],
   "source": [
    "import matplotlib.pyplot as plt"
   ]
  },
  {
   "cell_type": "code",
   "execution_count": 115,
   "metadata": {
    "scrolled": true
   },
   "outputs": [
    {
     "data": {
      "image/png": "[encoded data removed]",
      "text/plain": [
       "<Figure size 432x288 with 1 Axes>"
      ]
     },
     "metadata": {
      "needs_background": "light"
     },
     "output_type": "display_data"
    }
   ],
   "source": [
    "plt.clf()\n",
    "plt.plot(s)\n",
    "plt.show()"
   ]
  },
  {
   "cell_type": "code",
   "execution_count": 118,
   "metadata": {},
   "outputs": [
    {
     "data": {
      "image/png": "[encoded data removed]",
      "text/plain": [
       "<Figure size 432x288 with 1 Axes>"
      ]
     },
     "metadata": {
      "needs_background": "light"
     },
     "output_type": "display_data"
    }
   ],
   "source": [
    "plt.clf()\n",
    "dot_prods = (u.T @ (y - 0.5))**2\n",
    "plt.plot(dot_prods[:800])\n",
    "plt.show()"
   ]
  },
  {
   "cell_type": "code",
   "execution_count": 16,
   "metadata": {},
   "outputs": [],
   "source": [
    "np.save(f'embeddings/bert_{lang}_X.npy', X)\n",
    "np.save(f'embeddings/bert_{lang}_y.npy', y)"
   ]
  },
  {
   "cell_type": "code",
   "execution_count": null,
   "metadata": {},
   "outputs": [],
   "source": []
  }
 ],
 "metadata": {
  "kernelspec": {
   "display_name": "Python 3 (ipykernel)",
   "language": "python",
   "name": "python3"
  },
  "language_info": {
   "codemirror_mode": {
    "name": "ipython",
    "version": 3
   },
   "file_extension": ".py",
   "mimetype": "text/x-python",
   "name": "python",
   "nbconvert_exporter": "python",
   "pygments_lexer": "ipython3",
   "version": "3.10.12"
  }
 },
 "nbformat": 4,
 "nbformat_minor": 4
}
